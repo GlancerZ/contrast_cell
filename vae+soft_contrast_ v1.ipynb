{
 "cells": [
  {
   "cell_type": "code",
   "execution_count": 26,
   "id": "39add23c",
   "metadata": {},
   "outputs": [],
   "source": [
    "import torch\n",
    "import argparse\n",
    "import numpy as np\n",
    "import pandas as pd\n",
    "import scanpy as sc\n",
    "import copy\n",
    "import torch.nn.functional as F\n",
    "from torch.utils.data import DataLoader\n",
    "from torch.optim.lr_scheduler import StepLR\n",
    "\n",
    "from sklearn.cluster import KMeans\n",
    "from sklearn.model_selection import train_test_split\n",
    "from sklearn.metrics import (accuracy_score, adjusted_rand_score,\n",
    "                             calinski_harabasz_score,\n",
    "                             normalized_mutual_info_score, silhouette_score)"
   ]
  },
  {
   "cell_type": "code",
   "execution_count": 27,
   "id": "7d6666e3",
   "metadata": {},
   "outputs": [],
   "source": [
    "'''\n",
    "mean是正态分布的mean，scale是sigma\n",
    "'''\n",
    "class Encoder(torch.nn.Module):\n",
    "    def __init__(self, input_dim, output_dim, hidden_dim=256):\n",
    "        super(Encoder, self).__init__()\n",
    "        self.net = torch.nn.Sequential(\n",
    "            torch.nn.Linear(input_dim, hidden_dim),\n",
    "            torch.nn.GELU(),\n",
    "            torch.nn.BatchNorm1d(hidden_dim),\n",
    "            torch.nn.Linear(hidden_dim, hidden_dim),\n",
    "            torch.nn.GELU()\n",
    "             \n",
    "        )\n",
    "        self.mean = torch.nn.Linear(hidden_dim, output_dim)\n",
    "        self.scale = torch.nn.Sequential(torch.nn.Linear(hidden_dim, output_dim), torch.nn.Softplus())\n",
    "        \n",
    "        for m in self.modules():\n",
    "            if isinstance(m, torch.nn.Linear):\n",
    "                    torch.nn.init.kaiming_uniform_(m.weight)\n",
    "                    \n",
    "    def forward(self, x):\n",
    "        q = self.net(x)\n",
    "        return self.mean(q), self.scale(q)\n",
    "    \n",
    "class Decoder(torch.nn.Module):\n",
    "    def __init__(self, input_dim, output_dim, hidden_dim=256):\n",
    "        super(Decoder, self).__init__()\n",
    "        self.lam = torch.nn.Sequential(\n",
    "            torch.nn.Linear(input_dim, hidden_dim),\n",
    "            torch.nn.GELU(),\n",
    "            torch.nn.Linear(hidden_dim, output_dim),\n",
    "            torch.nn.Softplus()\n",
    "        )\n",
    "        \n",
    "        for m in self.modules():\n",
    "            if isinstance(m, torch.nn.Linear):\n",
    "                    torch.nn.init.kaiming_uniform_(m.weight)\n",
    "\n",
    "    def forward(self, x):\n",
    "        return self.lam(x) + 1e-15"
   ]
  },
  {
   "cell_type": "code",
   "execution_count": 28,
   "id": "16c1be55",
   "metadata": {},
   "outputs": [],
   "source": [
    "def kl_term(mean, scale):\n",
    "    \"\"\"\n",
    "    KL divergence between N(mean, scale) and N(0, 1)\n",
    "    mean.shape(cells,hidden_dim)\n",
    "    scale.shape(cells.hidden_dim)\n",
    "    在隐空间上计算KL\n",
    "    \"\"\"\n",
    "    return .5 * (1 - 2 * torch.log(scale) + (mean * mean + scale * scale))\n",
    "\n",
    "def pois_llik(x, mean):\n",
    "    \"\"\"Return the log likelihood of x distributed as Poisson\"\"\"\n",
    "    return x * torch.log(mean) - mean - torch.lgamma(x + 1)\n",
    "\n",
    "def nb_llik(x, mean, inv_disp):\n",
    "    \"\"\"\n",
    "    Return the log likelihood of x distributed as NB\n",
    "    See Hilbe 2012, eq. 8.10\n",
    "    mean - mean (> 0)\n",
    "    inv_disp - inverse dispersion (> 0)\n",
    "    \"\"\"\n",
    "    return (x * torch.log(mean / inv_disp) -\n",
    "            x * torch.log(1 + mean / inv_disp) -\n",
    "            inv_disp * torch.log(1 + mean / inv_disp) +\n",
    "            torch.lgamma(x + inv_disp) -\n",
    "            torch.lgamma(inv_disp) -\n",
    "            torch.lgamma(x + 1))\n",
    "\n",
    "def zinb_llik(x, mean, inv_disp, logodds):\n",
    "    \"\"\"Return the log likelihood of x distributed as ZINB\n",
    "    See Hilbe 2012, eq. 11.12, 11.13\n",
    "    mean - mean (> 0)\n",
    "    inv_disp - inverse dispersion (> 0)\n",
    "    logodds - logit point mass weight\n",
    "    \"\"\"\n",
    "    # Important identities:\n",
    "    # log(x + y) = log(x) + softplus(log(y) - log(x))\n",
    "    # log(sigmoid(x)) = -softplus(-x)\n",
    "    softplus = torch.nn.functional.softplus\n",
    "    case_zero = -softplus(-logodds) + softplus(nb_llik(x, mean, inv_disp) - logodds)\n",
    "    case_non_zero = -softplus(logodds) + nb_llik(x, mean, inv_disp)\n",
    "    return torch.where(torch.lt(x, 1), case_zero, case_non_zero)"
   ]
  },
  {
   "cell_type": "code",
   "execution_count": 17,
   "id": "acd3acc1",
   "metadata": {},
   "outputs": [],
   "source": [
    "class PVAE(torch.nn.Module):\n",
    "    def __init__(self, input_dim, latent_dim):\n",
    "        super(PVAE, self).__init__()\n",
    "        self.encoder = Encoder(input_dim, latent_dim)\n",
    "        self.decoder = Decoder(latent_dim, input_dim)\n",
    "        #self.cluster_center = torch.nn.Parameter(torch.Tensor(nclusters, 64))\n",
    "        \n",
    "        self.alpha = 1\n",
    "\n",
    "    def loss(self, x):\n",
    "        mean, scale = self.encoder.forward(x)\n",
    "        kl = torch.sum(kl_term(mean, scale), dim=1)#return(1,cells)每一个样本的embedding对应的kl, \n",
    "        qz = torch.distributions.Normal(mean, scale).rsample()#可以添加n_samples进行多次采样，qz.shape (cells, latent_dim)\n",
    "        lam = self.decoder.forward(qz)#返回的是(cells,genes)\n",
    "        error = torch.sum(pois_llik(x, lam), dim=1)\n",
    "        loss = -torch.mean(error - kl)\n",
    "        return loss\n",
    "    \n",
    "    def soft_con(self, x, soft_label, tau=0.2):\n",
    "        \n",
    "        x = F.normalize(x)\n",
    "        \n",
    "        similarity_matrix = F.cosine_similarity(x.unsqueeze(1), x.unsqueeze(0), dim=2)#相似度矩阵\n",
    "        \n",
    "        soft_class = torch.mm(soft_label, soft_label.T)#对应相乘得到每两个样本分到同一类的概率\n",
    "        no_soft_class = 1 - soft_class#得到每两个样本不分到同一类的概率\n",
    "        mask_duijiao = (torch.ones(x.shape[0], x.shape[0]) - torch.eye(x.shape[0])).to(device)#mask对角矩阵\n",
    "        \n",
    "        soft_similarity = soft_class * similarity_matrix\n",
    "        no_soft_similarity = no_soft_class * similarity_matrix\n",
    "        \n",
    "        fenzi = torch.exp((mask_duijiao * soft_similarity + torch.eye(x.shape[0]).to(device)) / tau) \n",
    "        fenmu = torch.exp((mask_duijiao * no_soft_similarity + torch.eye(x.shape[0]).to(device)) / tau) \n",
    "        \n",
    "        loss = -torch.log(torch.div(fenzi, fenmu))\n",
    "        loss = torch.sum(torch.sum(loss, dim=1)) / (2*x.shape[0])\n",
    "        \n",
    "        return loss\n",
    "    \n",
    "    def label_filter(self, mean, soft_label):\n",
    "        index = []\n",
    "        for i in range(soft_label.shape[0]):\n",
    "            if soft_label[i].max() >= 0.4:\n",
    "                index.append(i)\n",
    "        mean = pd.DataFrame(mean.detach().cpu().numpy())\n",
    "        soft_label = pd.DataFrame(soft_label.detach().cpu().numpy())\n",
    "        mean = torch.tensor(np.array(mean.loc[index])).to(device)\n",
    "        soft_label = torch.tensor(np.array(soft_label.loc[index])).to(device)\n",
    "        \n",
    "        #print(len(index))\n",
    "        return mean, soft_label\n",
    "        \n",
    "        \n",
    "    def cluster_loss(self, x):\n",
    "        mean, scale = self.encoder.forward(x)\n",
    "        kl = torch.sum(kl_term(mean, scale), dim=1)#return(1,cells)每一个样本的embedding对应的kl, \n",
    "        qz = torch.distributions.Normal(mean, scale).rsample()#可以添加n_samples进行多次采样，qz.shape (cells, latent_dim)\n",
    "        lam = self.decoder.forward(qz)#返回的是(cells,genes)\n",
    "        error = torch.sum(pois_llik(x, lam), dim=1)\n",
    "        \n",
    "        soft_label = self.soft_assign(mean)#概率距离转化的soft_label\n",
    "        #mean, soft_label = self.label_filter(mean, soft_label)\n",
    "        contrastive_loss = self.soft_con(mean, soft_label)\n",
    "        \n",
    "        loss = -torch.mean(error - kl) + contrastive_loss * 0.1\n",
    "        \n",
    "        return loss\n",
    "    \n",
    "    def soft_assign(self, z):\n",
    "        q = 1.0 / (1.0 + torch.sum((z.unsqueeze(1) - self.cluster_center)**2, dim=2) / self.alpha)\n",
    "        q = q**((self.alpha+1.0)/2.0)\n",
    "        q = (q.t() / torch.sum(q, dim=1)).t()\n",
    "        return q\n",
    "    \n",
    "    def pre_train(self, max_epoch=3000, patience=15, verbose=False):\n",
    "\n",
    "        optimizer = torch.optim.Adam(self.parameters(), lr=3e-4, weight_decay=0.00001)\n",
    "         \n",
    "        bad_count = 0\n",
    "        best_test_loss = 10000\n",
    "        best_model = None\n",
    "        \n",
    "        for epoch in range(max_epoch):\n",
    "            \n",
    "            self.train()\n",
    "            for batch_idx, x in enumerate(dataloader_pre):\n",
    "                \n",
    "                optimizer.zero_grad()\n",
    "                loss = self.loss(x)\n",
    "                loss.backward()\n",
    "                optimizer.step()\n",
    "            \n",
    "            self.eval()\n",
    "            test_loss = self.loss(adata_test)\n",
    "            \n",
    "            if test_loss.item() < best_test_loss:\n",
    "                best_test_loss = test_loss.item()\n",
    "                bad_count = 0 \n",
    "                best_model = copy.deepcopy(self)\n",
    "            \n",
    "            else:\n",
    "                bad_count += 1\n",
    "                \n",
    "            if bad_count >= patience:\n",
    "                break    \n",
    "                    \n",
    "            if verbose:\n",
    "                print(f'[epoch {epoch}] test_elbo = {test_loss}')\n",
    "        \n",
    "        self = copy.deepcopy(best_model)\n",
    "    \n",
    "        return self\n",
    "    \n",
    "    def fit(self, labels, max_epoch, verbose=False):\n",
    "        \n",
    "        self.to(device)\n",
    "                \n",
    "        self.pre_train()#预训练得到聚类中心\n",
    "        \n",
    "        kmeans_pred = kmeans.fit_predict(self.encoder(adata_full)[0].detach().cpu())\n",
    "        #self.cluster_center.data.copy_(torch.tensor(kmeans.cluster_centers_, dtype=torch.float32))\n",
    "        self.cluster_center = torch.tensor(kmeans.cluster_centers_, dtype=torch.float32).to(device)\n",
    "        ari_pre = round(adjusted_rand_score(labels, kmeans_pred), 4)\n",
    "        \n",
    "        print(f'pre_train_ari = {ari_pre}')\n",
    "        \n",
    "        \n",
    "        optimizer = torch.optim.Adam(self.parameters(), lr=3e-5, weight_decay=0.0001)\n",
    "        #lr_s=StepLR(optimizer,step_size=10, gamma=0.95)\n",
    "        for epoch in range(1, max_epoch+1):\n",
    "            self.train()\n",
    "            \n",
    "            if epoch %20 == 0:\n",
    "                kmeans_pred = kmeans.fit_predict(self.encoder(adata_full)[0].detach().cpu())\n",
    "                self.cluster_center = torch.tensor(kmeans.cluster_centers_, dtype=torch.float32).to(device)\n",
    "                ari = round(adjusted_rand_score(labels, kmeans_pred), 4)\n",
    "                print(f'recluster ari = {ari}')\n",
    "                \n",
    "            for x in dataloader_full:\n",
    "                \n",
    "                optimizer.zero_grad()\n",
    "                loss = self.cluster_loss(x)\n",
    "                loss.backward()\n",
    "                optimizer.step()\n",
    "                \n",
    "            #lr_s.step()\n",
    "          \n",
    "        return self\n",
    "            \n",
    "    @torch.no_grad()\n",
    "    def predict(self, x):\n",
    "        x = x.float().to(device)\n",
    "        mean, scale = self.encoder.forward(x)\n",
    "        mu = self.decoder.forward(mean)\n",
    "        return mu, mean\n",
    "\n",
    "    @torch.no_grad()\n",
    "    def denoise(self, x):\n",
    "        return self.predict(x)\n",
    "    \n",
    "class NBVAE(PVAE):\n",
    "    def __init__(self, input_dim, latent_dim, disp_by_gene=True):\n",
    "        \"\"\"Initialize the VAE parameters\n",
    "        disp_by_gene - if True, model one dispersion parameter per gene\n",
    "        \"\"\"\n",
    "        # Important: only μ is a neural network output, so we can actually reuse\n",
    "        # the entire PVAE.\n",
    "        super().__init__(input_dim, latent_dim)\n",
    "        if disp_by_gene:\n",
    "            # Important: shape needs to be correct to broadcast\n",
    "            self.log_inv_disp = torch.nn.Parameter(torch.zeros([1, input_dim]))\n",
    "        else:\n",
    "            self.log_inv_disp = torch.nn.Parameter(torch.zeros([1]))\n",
    "    \n",
    "    def loss(self, x):\n",
    "        mean, scale = self.encoder.forward(x)\n",
    "        kl = torch.sum(kl_term(mean, scale), dim=1)#return(1,cells)每一个样本的embedding对应的kl\n",
    "        qz = torch.distributions.Normal(mean, scale).rsample()#qz.shape (cells, latent_dim)\n",
    "        mu = self.decoder.forward(qz)\n",
    "        error = torch.sum(nb_llik(x, mu, torch.exp(self.log_inv_disp)), dim=1)\n",
    "        loss = -torch.mean(error - kl)\n",
    "        return loss\n",
    "\n",
    "    @torch.no_grad()\n",
    "    def denoise(self, x):\n",
    "        x = x.float().to(device)\n",
    "        mu, embedding = self.predict(x)\n",
    "        # E[lam | g] = E_z[E[lam | z, g]]\n",
    "        lam = (x + torch.exp(self.log_inv_disp)) / (torch.exp(self.log_inv_disp) / mu + 1)\n",
    "        lam = lam.cpu()\n",
    "        return lam.numpy(), embedding\n",
    "    \n",
    "class ZINBVAE(NBVAE):\n",
    "    def __init__(self, input_dim, latent_dim, disp_by_gene=True, logodds_by_gene=True):\n",
    "        # Important: only μ is a neural network output, and we still need\n",
    "        # log_inv_disp, so we can actually reuse the entire NBVAE.\n",
    "        super().__init__(input_dim, latent_dim, disp_by_gene=disp_by_gene)\n",
    "        if logodds_by_gene:\n",
    "            self.logodds = torch.nn.Parameter(torch.zeros([1, input_dim]))\n",
    "        else:\n",
    "            self.logodds = torch.nn.Parameter(torch.zeros([1]))\n",
    "            \n",
    "    def loss(self, x):\n",
    "        mean, scale = self.encoder.forward(x)\n",
    "        kl = torch.sum(kl_term(mean, scale), dim=1)#return(1,cells)每一个样本的embedding对应的kl\n",
    "        qz = torch.distributions.Normal(mean, scale).rsample()#可以添加n_samples进行多次采样，qz.shape (cells, latent_dim)\n",
    "        mu = self.decoder.forward(qz)\n",
    "        error = torch.sum(zinb_llik(x, mu, torch.exp(self.log_inv_disp), self.logodds), dim=1)\n",
    "        loss = -torch.mean(error - kl)\n",
    "        \n",
    "        return loss\n",
    "    \n",
    "    @torch.no_grad()\n",
    "    def denoise(self, x):\n",
    "        x = x.float().to(device)\n",
    "        mu, embedding = self.predict(x)\n",
    "        # E[lam | g] = E_z[E[lam | z, g]]\n",
    "        lam = torch.sigmoid(-self.logodds) * (x + torch.exp(self.log_inv_disp)) / (torch.exp(self.log_inv_disp) / mu + 1)\n",
    "        lam = lam.cpu()\n",
    "        return lam.numpy(), embedding"
   ]
  },
  {
   "cell_type": "code",
   "execution_count": 18,
   "id": "92ca159a",
   "metadata": {},
   "outputs": [],
   "source": [
    "dataset = [\n",
    "    '../../data/Young.h5ad',\n",
    "    '../../data/mouse_ES_cell.h5ad',\n",
    "    '../../data/mouse_bladder.h5ad',\n",
    "    '../../data/worm_neuron.h5ad',\n",
    "    '../../data/QS_Trachea.h5ad',\n",
    "    '../../data/10X_PBMC.h5ad',\n",
    "    '../../data/Romanov.h5ad',\n",
    "    '../../data/QS_Diaphragm.h5ad',\n",
    "    '../../data/QS_Limb_Muscle.h5ad',\n",
    "    '../../data/QS_Lung.h5ad'\n",
    "    ]"
   ]
  },
  {
   "cell_type": "code",
   "execution_count": 29,
   "id": "855558e2",
   "metadata": {},
   "outputs": [],
   "source": [
    "dataset = [\n",
    "    '../../data/mouse_ES_cell.h5ad',\n",
    "    ]"
   ]
  },
  {
   "cell_type": "code",
   "execution_count": 30,
   "id": "ebb4938a",
   "metadata": {},
   "outputs": [
    {
     "name": "stdout",
     "output_type": "stream",
     "text": [
      "Successfully preprocessed 2717 cells and 3000 genes in 4 clusters.\n",
      "pre_train_ari = 0.8191\n",
      "recluster ari = 0.8071\n",
      "recluster ari = 0.8097\n",
      "recluster ari = 0.8106\n",
      "recluster ari = 0.8117\n",
      "recluster ari = 0.8184\n",
      "0.8078\n",
      "[0.8078]\n",
      "------------../../data/mouse_ES_cell.h5ad is Done\n"
     ]
    }
   ],
   "source": [
    "result = []\n",
    "device = torch.device('cuda:1')\n",
    "for i in dataset:\n",
    "    adata = sc.read_h5ad(i)\n",
    "    sc.pp.filter_cells(adata, min_genes=1)\n",
    "    sc.pp.filter_genes(adata, min_cells=3)\n",
    "    sc.pp.filter_cells(adata, min_counts=1)\n",
    "    adata.obs['size_factors'] = adata.obs.n_counts / np.median(adata.obs.n_counts)\n",
    "    \n",
    "    sc.pp.normalize_total(adata, target_sum=1e4)\n",
    "    sc.pp.log1p(adata)\n",
    "    \n",
    "    sc.pp.highly_variable_genes(adata, min_mean=0.0125, max_mean=4, min_disp=0.5, n_top_genes=3000, subset=True)\n",
    "    \n",
    "    true_label = np.array(adata.obs.cell_label)\n",
    "    nclusters = (np.unique(true_label).max() - np.unique(true_label).min() + 1).astype(int)\n",
    "    print('Successfully preprocessed {} cells and {} genes in {} clusters.'.format(adata.n_obs, adata.n_vars, nclusters))\n",
    "\n",
    "    ari_klist = []\n",
    "    for j in range(1):\n",
    "        kmeans = KMeans(n_clusters=nclusters, init=\"k-means++\",random_state=21)\n",
    "        \n",
    "        adata_full = torch.tensor(adata.X).to(device)\n",
    "        dataloader_full = DataLoader(adata_full, batch_size=1024, shuffle=True)\n",
    "        \n",
    "        adata_train, adata_test = train_test_split(torch.tensor(adata.X), test_size=0.05)\n",
    "        adata_train = adata_train.to(device)\n",
    "        adata_test = adata_test.to(device)\n",
    "        dataloader_pre = DataLoader(adata_train, batch_size=1024, shuffle=True)        \n",
    "               \n",
    "        model = ZINBVAE(input_dim=adata.X.shape[1], latent_dim=64).fit(labels=true_label, max_epoch=100, verbose=True)\n",
    "        mu, embedding = model.denoise(torch.tensor(adata.X))\n",
    "        \n",
    "        kmeans = KMeans(n_clusters=nclusters, init=\"k-means++\",random_state=21)\n",
    "        kmeans_pred = kmeans.fit_predict(embedding.cpu())\n",
    "        ari_k = round(adjusted_rand_score(true_label, kmeans_pred), 4)\n",
    "        ari_klist.append(ari_k)\n",
    "        print(ari_k)\n",
    "        \n",
    "    ari = sum(ari_klist)/len(ari_klist)\n",
    "    result.append(ari)\n",
    "    print(result)\n",
    "    \n",
    "    print('------------{} is Done'.format(i))"
   ]
  },
  {
   "cell_type": "code",
   "execution_count": null,
   "id": "0d612385",
   "metadata": {},
   "outputs": [],
   "source": []
  },
  {
   "cell_type": "code",
   "execution_count": 10,
   "id": "8666be2e",
   "metadata": {},
   "outputs": [
    {
     "name": "stderr",
     "output_type": "stream",
     "text": [
      "/home/dqw_zbw/anaconda3/envs/gclsc/lib/python3.8/site-packages/sklearn/manifold/_t_sne.py:780: FutureWarning: The default initialization in TSNE will change from 'random' to 'pca' in 1.2.\n",
      "  warnings.warn(\n",
      "/home/dqw_zbw/anaconda3/envs/gclsc/lib/python3.8/site-packages/sklearn/manifold/_t_sne.py:790: FutureWarning: The default learning rate in TSNE will change from 200.0 to 'auto' in 1.2.\n",
      "  warnings.warn(\n"
     ]
    },
    {
     "data": {
      "image/png": "[encoded data removed]",
      "text/plain": [
       "<Figure size 720x360 with 1 Axes>"
      ]
     },
     "metadata": {
      "needs_background": "light"
     },
     "output_type": "display_data"
    }
   ],
   "source": [
    "from sklearn.manifold import TSNE\n",
    "import pandas as pd\n",
    "data = pd.DataFrame(embedding.detach().cpu())\n",
    "mat = data.values.astype(float)\n",
    "X_tsne = TSNE(n_components=2,random_state=33).fit_transform(mat)\n",
    "import matplotlib.pyplot as plt\n",
    "from matplotlib.colors import ListedColormap\n",
    "\n",
    "plt.figure(figsize=(10, 5))\n",
    "plt.subplot(121)\n",
    "\n",
    "scat=plt.scatter(X_tsne[:, 0], X_tsne[:, 1], c = true_label, label=\"t-SNE\", s=0.8, alpha = 0.8)"
   ]
  },
  {
   "cell_type": "code",
   "execution_count": 10,
   "id": "ddf25af2",
   "metadata": {},
   "outputs": [
    {
     "data": {
      "text/plain": [
       "[0.7272, 0.8017, 0.4882, 0.5001, 0.5235, 0.7009, 0.6751, 0.9818, 0.665, 0.4954]"
      ]
     },
     "execution_count": 10,
     "metadata": {},
     "output_type": "execute_result"
    }
   ],
   "source": [
    "result"
   ]
  },
  {
   "cell_type": "code",
   "execution_count": 11,
   "id": "c2b89a8d",
   "metadata": {},
   "outputs": [
    {
     "data": {
      "text/plain": [
       "0.65589"
      ]
     },
     "execution_count": 11,
     "metadata": {},
     "output_type": "execute_result"
    }
   ],
   "source": [
    "sum(result)/len(result)"
   ]
  },
  {
   "cell_type": "code",
   "execution_count": 12,
   "id": "68b065a1",
   "metadata": {},
   "outputs": [],
   "source": [
    "import matplotlib.pyplot as plt\n",
    "def draw_fig(list1, list2, epoch):\n",
    "    x1 = range(1, epoch+1)\n",
    "    y1 = list1\n",
    "    y2 = list2\n",
    "    plt.cla()\n",
    "    plt.title('loss vs. epoch', fontsize=20)\n",
    "    plt.plot(x1, y1)\n",
    "    plt.plot(x1, y2)\n",
    "    plt.xlabel('epoch', fontsize=20)\n",
    "    plt.ylabel('loss', fontsize=20)\n",
    "    plt.grid()\n",
    "    plt.show()"
   ]
  },
  {
   "cell_type": "code",
   "execution_count": 13,
   "id": "6f6c2abe",
   "metadata": {},
   "outputs": [
    {
     "data": {
      "image/png": "[encoded data removed]",
      "text/plain": [
       "<Figure size 432x288 with 1 Axes>"
      ]
     },
     "metadata": {
      "needs_background": "light"
     },
     "output_type": "display_data"
    }
   ],
   "source": [
    "draw_fig(train, test, len(train))"
   ]
  },
  {
   "cell_type": "code",
   "execution_count": 12,
   "id": "b040d771",
   "metadata": {},
   "outputs": [],
   "source": [
    "a = torch.tensor([[0.1,0.2,0.7],[0.3,0.4,0.4],[0.8,0.1,0.1]])"
   ]
  },
  {
   "cell_type": "code",
   "execution_count": 8,
   "id": "c0b1dfe4",
   "metadata": {},
   "outputs": [],
   "source": []
  },
  {
   "cell_type": "code",
   "execution_count": 13,
   "id": "5f1e4d7d",
   "metadata": {},
   "outputs": [],
   "source": [
    "index = []\n",
    "for i in range(a.shape[0]):\n",
    "    if a[i].max() >= 0.7:\n",
    "        index.append(i)"
   ]
  },
  {
   "cell_type": "code",
   "execution_count": 14,
   "id": "6bf7d39e",
   "metadata": {},
   "outputs": [
    {
     "data": {
      "text/plain": [
       "[0, 2]"
      ]
     },
     "execution_count": 14,
     "metadata": {},
     "output_type": "execute_result"
    }
   ],
   "source": [
    "index"
   ]
  },
  {
   "cell_type": "code",
   "execution_count": 16,
   "id": "79c49ee4",
   "metadata": {},
   "outputs": [],
   "source": [
    "\n",
    "a = pd.DataFrame(a.detach().cpu().numpy())"
   ]
  },
  {
   "cell_type": "code",
   "execution_count": 17,
   "id": "b0b1802f",
   "metadata": {},
   "outputs": [
    {
     "data": {
      "text/html": [
       "<div>\n",
       "<style scoped>\n",
       "    .dataframe tbody tr th:only-of-type {\n",
       "        vertical-align: middle;\n",
       "    }\n",
       "\n",
       "    .dataframe tbody tr th {\n",
       "        vertical-align: top;\n",
       "    }\n",
       "\n",
       "    .dataframe thead th {\n",
       "        text-align: right;\n",
       "    }\n",
       "</style>\n",
       "<table border=\"1\" class=\"dataframe\">\n",
       "  <thead>\n",
       "    <tr style=\"text-align: right;\">\n",
       "      <th></th>\n",
       "      <th>0</th>\n",
       "      <th>1</th>\n",
       "      <th>2</th>\n",
       "    </tr>\n",
       "  </thead>\n",
       "  <tbody>\n",
       "    <tr>\n",
       "      <th>0</th>\n",
       "      <td>0.1</td>\n",
       "      <td>0.2</td>\n",
       "      <td>0.7</td>\n",
       "    </tr>\n",
       "    <tr>\n",
       "      <th>1</th>\n",
       "      <td>0.3</td>\n",
       "      <td>0.4</td>\n",
       "      <td>0.4</td>\n",
       "    </tr>\n",
       "    <tr>\n",
       "      <th>2</th>\n",
       "      <td>0.8</td>\n",
       "      <td>0.1</td>\n",
       "      <td>0.1</td>\n",
       "    </tr>\n",
       "  </tbody>\n",
       "</table>\n",
       "</div>"
      ],
      "text/plain": [
       "     0    1    2\n",
       "0  0.1  0.2  0.7\n",
       "1  0.3  0.4  0.4\n",
       "2  0.8  0.1  0.1"
      ]
     },
     "execution_count": 17,
     "metadata": {},
     "output_type": "execute_result"
    }
   ],
   "source": [
    "a"
   ]
  },
  {
   "cell_type": "code",
   "execution_count": 18,
   "id": "1bc09007",
   "metadata": {},
   "outputs": [],
   "source": [
    "a = a.loc[index]"
   ]
  },
  {
   "cell_type": "code",
   "execution_count": 19,
   "id": "ade0b28b",
   "metadata": {},
   "outputs": [
    {
     "data": {
      "text/html": [
       "<div>\n",
       "<style scoped>\n",
       "    .dataframe tbody tr th:only-of-type {\n",
       "        vertical-align: middle;\n",
       "    }\n",
       "\n",
       "    .dataframe tbody tr th {\n",
       "        vertical-align: top;\n",
       "    }\n",
       "\n",
       "    .dataframe thead th {\n",
       "        text-align: right;\n",
       "    }\n",
       "</style>\n",
       "<table border=\"1\" class=\"dataframe\">\n",
       "  <thead>\n",
       "    <tr style=\"text-align: right;\">\n",
       "      <th></th>\n",
       "      <th>0</th>\n",
       "      <th>1</th>\n",
       "      <th>2</th>\n",
       "    </tr>\n",
       "  </thead>\n",
       "  <tbody>\n",
       "    <tr>\n",
       "      <th>0</th>\n",
       "      <td>0.1</td>\n",
       "      <td>0.2</td>\n",
       "      <td>0.7</td>\n",
       "    </tr>\n",
       "    <tr>\n",
       "      <th>2</th>\n",
       "      <td>0.8</td>\n",
       "      <td>0.1</td>\n",
       "      <td>0.1</td>\n",
       "    </tr>\n",
       "  </tbody>\n",
       "</table>\n",
       "</div>"
      ],
      "text/plain": [
       "     0    1    2\n",
       "0  0.1  0.2  0.7\n",
       "2  0.8  0.1  0.1"
      ]
     },
     "execution_count": 19,
     "metadata": {},
     "output_type": "execute_result"
    }
   ],
   "source": [
    "a"
   ]
  },
  {
   "cell_type": "code",
   "execution_count": null,
   "id": "391f4546",
   "metadata": {},
   "outputs": [],
   "source": []
  }
 ],
 "metadata": {
  "kernelspec": {
   "display_name": "Python [conda env:gclsc]",
   "language": "python",
   "name": "conda-env-gclsc-py"
  },
  "language_info": {
   "codemirror_mode": {
    "name": "ipython",
    "version": 3
   },
   "file_extension": ".py",
   "mimetype": "text/x-python",
   "name": "python",
   "nbconvert_exporter": "python",
   "pygments_lexer": "ipython3",
   "version": "3.8.12"
  }
 },
 "nbformat": 4,
 "nbformat_minor": 5
}
